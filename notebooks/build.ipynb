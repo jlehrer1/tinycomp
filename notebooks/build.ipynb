{
 "cells": [
  {
   "cell_type": "code",
   "execution_count": 7,
   "id": "6d2282f3",
   "metadata": {},
   "outputs": [],
   "source": [
    "import linecache\n",
    "import csv\n",
    "import numpy as np"
   ]
  },
  {
   "cell_type": "code",
   "execution_count": 68,
   "id": "f390da2c",
   "metadata": {},
   "outputs": [],
   "source": [
    "class Dataset:\n",
    "    def __init__(self, filename):\n",
    "        self._filename = filename\n",
    "        self._total_data = self._numline(filename)\n",
    "        self.columns = self._get_columns()\n",
    "        self.shape = (self._total_data, len(self.columns))\n",
    "        \n",
    "    \n",
    "    def __getitem__(self, idx):\n",
    "        if isinstance(idx, slice):\n",
    "            step = (1 if idx.step == None else idx.step)\n",
    "            return np.array([self._getline(i) for i in range(idx.start, idx.stop, step)]).astype(float)\n",
    "        elif isinstance(idx, list):\n",
    "            return np.array([self._getline(i) for i in idx]).astype(float)\n",
    "        elif isinstance(idx, int):\n",
    "            return np.array(self._getline(idx)).astype(float)\n",
    "        else:\n",
    "            raise TypeError(f\"Index must be list or int, not {type(idx).__name__}\")\n",
    "            \n",
    "    def _getline(self, idx):\n",
    "        line = linecache.getline(self._filename, idx + 2)\n",
    "        csv_data = csv.reader([line])\n",
    "        data = [x for x in csv_data][0]\n",
    "        return data\n",
    "    \n",
    "    def _numline(self, filename):\n",
    "        n = 0\n",
    "        with open(filename, \"r\") as f:\n",
    "            n = len(f.readlines()) - 1\n",
    "        return n\n",
    "\n",
    "    def __len__(self):\n",
    "        return self._total_data\n",
    "\n",
    "    def _get_columns(self):\n",
    "        line = linecache.getline(self._filename, 1)\n",
    "        csv_data = csv.reader([line])\n",
    "        return [x for x in csv_data][0]\n",
    "    \n",
    "    def nlargest(self, indices, n=20, axis=-1):\n",
    "        s = self[indices[0]]\n",
    "        for idx in indices[1:]:\n",
    "            s += self[idx]\n",
    "\n",
    "        return [self.columns[idx] for idx in np.argsort(s, axis=axis)[-n: ]]\n",
    "    \n",
    "    def nsmallest(self, indices, n=20, axis=-1):\n",
    "        s = self[indices[0]]\n",
    "        for idx in indices[1:]:\n",
    "            s += self[idx]\n",
    "\n",
    "        return [self.columns[idx] for idx in np.argsort(s, axis=axis)[0: n]]\n"
   ]
  },
  {
   "cell_type": "code",
   "execution_count": 69,
   "id": "80bd3ed1",
   "metadata": {},
   "outputs": [],
   "source": [
    "data = Dataset('organoid_reduction_neighbors_15_components_50.csv')\n",
    "data.columns = [f'col_{x}' for x in data.columns]"
   ]
  },
  {
   "cell_type": "code",
   "execution_count": 70,
   "id": "7eaa835c",
   "metadata": {},
   "outputs": [
    {
     "data": {
      "text/plain": [
       "['col_42',\n",
       " 'col_35',\n",
       " 'col_8',\n",
       " 'col_32',\n",
       " 'col_48',\n",
       " 'col_31',\n",
       " 'col_14',\n",
       " 'col_21',\n",
       " 'col_1',\n",
       " 'col_19',\n",
       " 'col_0',\n",
       " 'col_9',\n",
       " 'col_37',\n",
       " 'col_11',\n",
       " 'col_41',\n",
       " 'col_13',\n",
       " 'col_22',\n",
       " 'col_5',\n",
       " 'col_2',\n",
       " 'col_26']"
      ]
     },
     "execution_count": 70,
     "metadata": {},
     "output_type": "execute_result"
    }
   ],
   "source": [
    "data.nlargest(range(600, 650))"
   ]
  },
  {
   "cell_type": "code",
   "execution_count": null,
   "id": "d4ca722c",
   "metadata": {},
   "outputs": [],
   "source": []
  },
  {
   "cell_type": "code",
   "execution_count": null,
   "id": "5c82ad1e",
   "metadata": {},
   "outputs": [],
   "source": []
  }
 ],
 "metadata": {
  "kernelspec": {
   "display_name": "Python [conda env:base-data-science]",
   "language": "python",
   "name": "conda-env-base-data-science-py"
  },
  "language_info": {
   "codemirror_mode": {
    "name": "ipython",
    "version": 3
   },
   "file_extension": ".py",
   "mimetype": "text/x-python",
   "name": "python",
   "nbconvert_exporter": "python",
   "pygments_lexer": "ipython3",
   "version": "3.9.7"
  }
 },
 "nbformat": 4,
 "nbformat_minor": 5
}
