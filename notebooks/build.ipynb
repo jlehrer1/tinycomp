{
 "cells": [
  {
   "cell_type": "code",
   "execution_count": 1,
   "id": "bd27c86f",
   "metadata": {},
   "outputs": [],
   "source": [
    "import linecache\n",
    "import csv\n",
    "import pandas as pd \n",
    "import numpy as np"
   ]
  },
  {
   "cell_type": "code",
   "execution_count": 32,
   "id": "0a1ddcf3",
   "metadata": {},
   "outputs": [],
   "source": [
    "class Dataset:\n",
    "    def __init__(self, filename: str, rows: list=None):\n",
    "        \"\"\"\n",
    "        Dataset method can either be initialized with a list of rows (mutable by changing the rows attribute),\n",
    "        or a new list of rows may be passed in for each method that requires it, but not both (this would be ambiguous).\n",
    "        \n",
    "        Parameters:\n",
    "        filename: Path to csv file \n",
    "        rows (optional): List of rows to initialize the dataset with\n",
    "        \n",
    "        Returns:\n",
    "        None\n",
    "        \"\"\"\n",
    "        # Private attributes\n",
    "        self._filename = filename\n",
    "        self._total_data = self._numline(filename)\n",
    "        \n",
    "        # Public attributes \n",
    "        self.rows = rows\n",
    "        \n",
    "        # Public attributes (Pandas API-like)\n",
    "        self.index = rows\n",
    "        self.columns = self._get_columns()\n",
    "        self.shape = (self._total_data, len(self.columns))\n",
    "        \n",
    "    # Python dunder methods\n",
    "    \n",
    "    def __getitem__(self, idx):\n",
    "        if isinstance(idx, slice):\n",
    "            step = (1 if idx.step == None else idx.step)\n",
    "            return np.array([self._getline(i) for i in range(idx.start, idx.stop, step)]).astype(float)\n",
    "        elif isinstance(idx, (list, range)):\n",
    "            return np.array([self._getline(i) for i in idx]).astype(float)\n",
    "        elif isinstance(idx, int):\n",
    "            return np.array(self._getline(idx)).astype(float)\n",
    "        else:\n",
    "            raise TypeError(f\"Index must be list or int, not {type(idx).__name__}\")\n",
    "\n",
    "    def __len__(self):\n",
    "        return self._total_data\n",
    "\n",
    "    def __str__(self):\n",
    "        if self.rows is not None:\n",
    "            return str(self.__getitem__(self.rows))\n",
    "        else:\n",
    "            return 'Dataset()'\n",
    "            \n",
    "    def __repr__(self):\n",
    "        return self.__str__()\n",
    "    \n",
    "    def _getline(self, idx):\n",
    "        \"\"\"\n",
    "        Returns a line from a csv file as a list of strings (not type-checked)\n",
    "        \n",
    "        Parameters:\n",
    "        idx: Row to return from file \n",
    "        \n",
    "        Returns:\n",
    "        list: Row of file with each comma-separated value as a distinct value in the list \n",
    "        \"\"\"\n",
    "        line = linecache.getline(self._filename, idx + 2)\n",
    "        csv_data = csv.reader([line])\n",
    "        data = [x for x in csv_data][0]\n",
    "        return data\n",
    "    \n",
    "    def _numline(self, filename):\n",
    "        \"\"\"\n",
    "        Gets the number of lines in a file, should only be used for getting the total number of rows on object initialization\n",
    "        \n",
    "        Parameters:\n",
    "        filename: Path to the file to get the number of lines from\n",
    "        \n",
    "        Returns:\n",
    "        n: Number of lines in the file\n",
    "        \"\"\"\n",
    "        n = 0\n",
    "        with open(filename, \"r\") as f:\n",
    "            n = len(f.readlines()) - 1\n",
    "        return n\n",
    "    \n",
    "    def _row_get(self, rows: list):\n",
    "        \"\"\"\n",
    "        Returns rows from a file, either with a passed list or from the list of rows upon object initialization.\n",
    "        Also performs error checking to make sure either rows were set upon initialization or passed, but not both or neither. \n",
    "        \n",
    "        Parameters:\n",
    "        rows: List of rows\n",
    "        \n",
    "        Returns:\n",
    "        list: Array of row values from file \n",
    "        \"\"\"\n",
    "        \n",
    "        if self.rows is None and rows is None:\n",
    "            raise ValueError(\n",
    "                f\"\"\"{self.__class__} object was not initialized with a list of rows.\n",
    "                Either reinitialize with a list or rows or pass a list of rows to this method.\"\"\"\n",
    "            )\n",
    "        if self.rows is not None and rows is not None:\n",
    "            raise ValueError(\n",
    "                f\"\"\"{self.__class__} object was initialized with a list of rows. Therefore, a list of rows may not be \n",
    "                passed to this method. Either reinitialize without a defined list of rows or do not pass a list into this method. \"\"\"\n",
    "            )\n",
    "        \n",
    "        return rows if rows != None else self.rows\n",
    "\n",
    "    def _get_columns(self):\n",
    "        \"\"\"\n",
    "        Get all the columns of the csv\n",
    "        \n",
    "        Parameters:\n",
    "        None\n",
    "        \n",
    "        Returns:\n",
    "        list: List of column names as strings\n",
    "        \"\"\"\n",
    "        line = linecache.getline(self._filename, 1)\n",
    "        csv_data = csv.reader([line])\n",
    "        return [x for x in csv_data][0]\n",
    "    \n",
    "    def sum(self, rows=None, axis=0):\n",
    "        \"\"\"Sums the given rows by the given axis\"\"\"\n",
    "        rows = self._row_get(rows)\n",
    "        \n",
    "        return np.sum(self[rows], axis=axis)\n",
    "        \n",
    "    def nlargest(self, rows=None, n=20, axis=0, ascending=False):\n",
    "        \"\"\"\n",
    "        Gets the n largest rows or columns (summed), depending on the axis \n",
    "        \"\"\"\n",
    "        \n",
    "        rows = self._row_get(rows)\n",
    "        s = np.sum(self[rows], axis=axis)\n",
    "        \n",
    "        if axis == 0:\n",
    "            data = [self.columns[idx] for idx in np.argsort(s)[-n: ]]\n",
    "        else:\n",
    "            data = np.argsort(s)[-n: ]\n",
    "            \n",
    "        return data[::-1] if ascending else data\n",
    "    \n",
    "    def nsmallest(self, rows=None, n=20, axis=0, ascending=False):\n",
    "        \"\"\"\n",
    "        Gets the n smallest rows or columns (summed), depending on the axis \n",
    "        \"\"\"\n",
    "        \n",
    "        rows = self._row_get(rows)\n",
    "        s = np.sum(self[rows], axis=axis)\n",
    "        print(s)\n",
    "        if axis == 0:\n",
    "            data = [self.columns[idx] for idx in np.argsort(s)[0: n]]\n",
    "        else:\n",
    "            data = np.argsort(s)[0: n]\n",
    "            \n",
    "        return data[::-1] if ascending else data"
   ]
  },
  {
   "cell_type": "code",
   "execution_count": 33,
   "id": "fc3fbde0",
   "metadata": {},
   "outputs": [],
   "source": [
    "data = Dataset('organoid_reduction_neighbors_100_components_50.csv', rows=range(0, 1000))\n",
    "data.columns = [f'col_{x}' for x in data.columns]"
   ]
  },
  {
   "cell_type": "code",
   "execution_count": 45,
   "id": "2caf42eb",
   "metadata": {
    "scrolled": false
   },
   "outputs": [],
   "source": [
    "primary = Dataset('../../organoid-classification/data/processed/primary.csv', rows=range(0, 100))"
   ]
  },
  {
   "cell_type": "code",
   "execution_count": 46,
   "id": "6ece9ef7",
   "metadata": {},
   "outputs": [
    {
     "data": {
      "text/plain": [
       "['RPL27',\n",
       " 'GNB2L1',\n",
       " 'DYNLL1',\n",
       " 'COX7C',\n",
       " 'ATP5L',\n",
       " 'CFL1',\n",
       " 'RPL10A',\n",
       " 'SRP14',\n",
       " 'ACTG1',\n",
       " 'YWHAE',\n",
       " 'EIF1',\n",
       " 'RPL30',\n",
       " 'RPL8',\n",
       " 'RPL27A',\n",
       " 'ATP5E',\n",
       " 'COX7A2',\n",
       " 'MT-ATP6',\n",
       " 'RPL23A',\n",
       " 'STMN2',\n",
       " 'NFIB',\n",
       " 'RPL24',\n",
       " 'RPS9',\n",
       " 'RPL9',\n",
       " 'FTL',\n",
       " 'GPM6A',\n",
       " 'AC090498.1',\n",
       " 'RPL38',\n",
       " 'RPL31',\n",
       " 'RPL29',\n",
       " 'RPL28',\n",
       " 'UBB',\n",
       " 'HNRNPH1',\n",
       " 'RPL18',\n",
       " 'FAU',\n",
       " 'RPL36A',\n",
       " 'RPS24',\n",
       " 'RPS25',\n",
       " 'RPS12',\n",
       " 'RPS3',\n",
       " 'RPL19',\n",
       " 'EEF1A1',\n",
       " 'RPS5',\n",
       " 'MT-ND4',\n",
       " 'RPL6',\n",
       " 'RPLP2',\n",
       " 'H3F3A',\n",
       " 'RPL12',\n",
       " 'MAP1B',\n",
       " 'MT-CO3',\n",
       " 'RPL13',\n",
       " 'HMGB1',\n",
       " 'TUBB2B',\n",
       " 'RPL36',\n",
       " 'RPS6',\n",
       " 'RPS28',\n",
       " 'RPS17',\n",
       " 'RPS23',\n",
       " 'RPLP1',\n",
       " 'RPL35',\n",
       " 'RPS13',\n",
       " 'RPL11',\n",
       " 'RPL35A',\n",
       " 'H3F3B',\n",
       " 'RPS15A',\n",
       " 'SOX11',\n",
       " 'TUBB',\n",
       " 'MT-CO1',\n",
       " 'RPL18A',\n",
       " 'MT-CO2',\n",
       " 'RPS27A',\n",
       " 'RPS4X',\n",
       " 'CALM2',\n",
       " 'RPL15',\n",
       " 'RPL26',\n",
       " 'RPL37A',\n",
       " 'RPS3A',\n",
       " 'RPS29',\n",
       " 'RPS8',\n",
       " 'RPL13A',\n",
       " 'RPL3',\n",
       " 'RPL7',\n",
       " 'RPS15',\n",
       " 'RPL32',\n",
       " 'RPS18',\n",
       " 'RPS14',\n",
       " 'STMN1',\n",
       " 'RPL21',\n",
       " 'SOX4',\n",
       " 'TUBA1A',\n",
       " 'ACTB',\n",
       " 'RPL41',\n",
       " 'RPL10',\n",
       " 'TMSB10',\n",
       " 'RPL39',\n",
       " 'RPS19',\n",
       " 'RPS27',\n",
       " 'PTMA',\n",
       " 'RPL34',\n",
       " 'TMSB4X',\n",
       " 'MALAT1']"
      ]
     },
     "execution_count": 46,
     "metadata": {},
     "output_type": "execute_result"
    }
   ],
   "source": [
    "primary.nlargest(n=100)"
   ]
  },
  {
   "cell_type": "code",
   "execution_count": null,
   "id": "11e8ce5e",
   "metadata": {},
   "outputs": [],
   "source": [
    "primary.sum(rows=range(0, 5), axis=0)\n"
   ]
  },
  {
   "cell_type": "code",
   "execution_count": 86,
   "id": "1bb162a2",
   "metadata": {},
   "outputs": [
    {
     "data": {
      "text/plain": [
       "10"
      ]
     },
     "execution_count": 86,
     "metadata": {},
     "output_type": "execute_result"
    }
   ],
   "source": [
    "len(primary.sum(rows=range(0, 10), axis=1))"
   ]
  },
  {
   "cell_type": "code",
   "execution_count": 88,
   "id": "18360dba",
   "metadata": {},
   "outputs": [
    {
     "data": {
      "text/plain": [
       "array([[0.        , 0.        , 0.        , ..., 0.        , 0.        ,\n",
       "        0.        ],\n",
       "       [0.        , 0.        , 0.        , ..., 0.        , 0.        ,\n",
       "        0.        ],\n",
       "       [0.        , 0.        , 0.        , ..., 0.        , 0.        ,\n",
       "        0.        ],\n",
       "       [0.        , 0.        , 1.26626311, ..., 0.        , 0.        ,\n",
       "        0.        ],\n",
       "       [0.        , 0.        , 0.        , ..., 0.        , 0.        ,\n",
       "        0.        ]])"
      ]
     },
     "execution_count": 88,
     "metadata": {},
     "output_type": "execute_result"
    }
   ],
   "source": [
    "primary[0: 5]"
   ]
  },
  {
   "cell_type": "code",
   "execution_count": 102,
   "id": "d3c63307",
   "metadata": {},
   "outputs": [],
   "source": [
    "t = np.array([[1,0,0], [0,1,0], [0,0,9], [2,1,0]])"
   ]
  },
  {
   "cell_type": "code",
   "execution_count": 109,
   "id": "dc76ced4",
   "metadata": {},
   "outputs": [
    {
     "data": {
      "text/plain": [
       "array([[1, 0, 0],\n",
       "       [0, 1, 0],\n",
       "       [0, 0, 9],\n",
       "       [2, 1, 0]])"
      ]
     },
     "execution_count": 109,
     "metadata": {},
     "output_type": "execute_result"
    }
   ],
   "source": [
    "t"
   ]
  },
  {
   "cell_type": "code",
   "execution_count": 112,
   "id": "617b718e",
   "metadata": {},
   "outputs": [
    {
     "data": {
      "text/plain": [
       "array([3, 2, 9])"
      ]
     },
     "execution_count": 112,
     "metadata": {},
     "output_type": "execute_result"
    }
   ],
   "source": [
    "np.einsum('ij->j', t)"
   ]
  },
  {
   "cell_type": "code",
   "execution_count": 117,
   "id": "49f407eb",
   "metadata": {
    "scrolled": true
   },
   "outputs": [
    {
     "data": {
      "text/plain": [
       "0     1.136211e+06\n",
       "1     1.073645e+06\n",
       "2     8.114607e+05\n",
       "3     1.511266e+06\n",
       "4     1.177429e+06\n",
       "5     6.041218e+05\n",
       "6     1.183298e+06\n",
       "7     1.370878e+06\n",
       "8     1.244941e+06\n",
       "9     1.505425e+06\n",
       "10    1.130370e+06\n",
       "11    1.047262e+06\n",
       "12    1.118208e+06\n",
       "13    1.119800e+06\n",
       "14    1.298040e+06\n",
       "15    1.209784e+06\n",
       "16    1.036354e+06\n",
       "17    1.226688e+06\n",
       "18    1.373266e+06\n",
       "19    1.389661e+06\n",
       "20    8.487344e+05\n",
       "21    3.092742e+05\n",
       "22    9.949686e+05\n",
       "23    1.438760e+06\n",
       "24    1.075432e+06\n",
       "25    9.880509e+05\n",
       "26    8.638106e+05\n",
       "27    9.781714e+05\n",
       "28    1.591229e+06\n",
       "29    9.606378e+05\n",
       "30    1.612723e+06\n",
       "31    1.117002e+06\n",
       "32    1.211222e+06\n",
       "33    1.425658e+06\n",
       "34    1.566990e+06\n",
       "35    2.120810e+06\n",
       "36    1.153098e+06\n",
       "37    8.628491e+05\n",
       "38    1.152845e+06\n",
       "39    1.787684e+06\n",
       "40    1.195477e+06\n",
       "41    6.364672e+05\n",
       "42    1.185073e+06\n",
       "43    1.132126e+06\n",
       "44    1.309915e+06\n",
       "45    1.246404e+06\n",
       "46    1.606879e+06\n",
       "47    1.606189e+06\n",
       "48    1.632589e+06\n",
       "49    1.250043e+06\n",
       "dtype: float64"
      ]
     },
     "execution_count": 117,
     "metadata": {},
     "output_type": "execute_result"
    }
   ],
   "source": [
    "df.sum(axis=0)"
   ]
  },
  {
   "cell_type": "code",
   "execution_count": null,
   "id": "236d826b",
   "metadata": {},
   "outputs": [],
   "source": []
  }
 ],
 "metadata": {
  "kernelspec": {
   "display_name": "Python [conda env:base-data-science] *",
   "language": "python",
   "name": "conda-env-base-data-science-py"
  },
  "language_info": {
   "codemirror_mode": {
    "name": "ipython",
    "version": 3
   },
   "file_extension": ".py",
   "mimetype": "text/x-python",
   "name": "python",
   "nbconvert_exporter": "python",
   "pygments_lexer": "ipython3",
   "version": "3.9.7"
  }
 },
 "nbformat": 4,
 "nbformat_minor": 5
}
